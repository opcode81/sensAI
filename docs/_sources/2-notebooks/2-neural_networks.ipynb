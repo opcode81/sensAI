{
 "cells": [
  {
   "cell_type": "markdown",
   "metadata": {
    "collapsed": false,
    "tags": [
     "hide-cell"
    ]
   },
   "source": [
    "# Neural Networks\n",
    "\n",
    "Neural networks being a very powerful class of models, especially in cases where the learning of representations from low-level information (such as pixels, audio samples or text) is key, sensAI provides many useful abstractions for dealing with this class of models, facilitating data handling, learning and evaluation.\n",
    "\n",
    "sensAI mainly provides abstractions for PyTorch, but there is also rudimentary support for TensorFlow."
   ]
  },
  {
   "cell_type": "code",
   "execution_count": 1,
   "metadata": {
    "execution": {
     "iopub.execute_input": "2024-11-29T18:24:30.025641Z",
     "iopub.status.busy": "2024-11-29T18:24:30.025438Z",
     "iopub.status.idle": "2024-11-29T18:24:30.040396Z",
     "shell.execute_reply": "2024-11-29T18:24:30.039802Z"
    },
    "tags": [
     "hide-cell"
    ]
   },
   "outputs": [],
   "source": [
    "%load_ext autoreload\n",
    "%autoreload 2"
   ]
  },
  {
   "cell_type": "code",
   "execution_count": 2,
   "metadata": {
    "execution": {
     "iopub.execute_input": "2024-11-29T18:24:30.042635Z",
     "iopub.status.busy": "2024-11-29T18:24:30.042259Z",
     "iopub.status.idle": "2024-11-29T18:24:31.127849Z",
     "shell.execute_reply": "2024-11-29T18:24:31.127194Z"
    },
    "tags": [
     "hide-cell"
    ]
   },
   "outputs": [],
   "source": [
    "%%capture\n",
    "import sys; sys.path.extend([\"../src\", \"..\"])\n",
    "import sensai\n",
    "import pandas as pd\n",
    "import numpy as np\n",
    "from typing import *\n",
    "import config\n",
    "import warnings\n",
    "import functools\n",
    "\n",
    "cfg = config.get_config()\n",
    "warnings.filterwarnings(\"ignore\")\n",
    "sensai.util.logging.configure()"
   ]
  },
  {
   "cell_type": "markdown",
   "metadata": {},
   "source": [
    "## Image Classification\n",
    "\n",
    "As an example use case, let us solve the classification problem of classifying digits in pixel images from the MNIST dataset. Images are greyscale (no colour information) and 28x28 pixels in size."
   ]
  },
  {
   "cell_type": "code",
   "execution_count": 3,
   "metadata": {
    "execution": {
     "iopub.execute_input": "2024-11-29T18:24:31.131002Z",
     "iopub.status.busy": "2024-11-29T18:24:31.130519Z",
     "iopub.status.idle": "2024-11-29T18:24:33.259970Z",
     "shell.execute_reply": "2024-11-29T18:24:33.259368Z"
    }
   },
   "outputs": [],
   "source": [
    "mnist_df = pd.read_csv(cfg.datafile_path(\"mnist_train.csv.zip\"))"
   ]
  },
  {
   "cell_type": "markdown",
   "metadata": {},
   "source": [
    "The data frame contains one column for every pixel, each pixel being represented by an 8-bit integer (0 to 255)."
   ]
  },
  {
   "cell_type": "code",
   "execution_count": 4,
   "metadata": {
    "execution": {
     "iopub.execute_input": "2024-11-29T18:24:33.262800Z",
     "iopub.status.busy": "2024-11-29T18:24:33.262604Z",
     "iopub.status.idle": "2024-11-29T18:24:33.293564Z",
     "shell.execute_reply": "2024-11-29T18:24:33.292735Z"
    }
   },
   "outputs": [
    {
     "data": {
      "text/html": [
       "<div>\n",
       "<style scoped>\n",
       "    .dataframe tbody tr th:only-of-type {\n",
       "        vertical-align: middle;\n",
       "    }\n",
       "\n",
       "    .dataframe tbody tr th {\n",
       "        vertical-align: top;\n",
       "    }\n",
       "\n",
       "    .dataframe thead th {\n",
       "        text-align: right;\n",
       "    }\n",
       "</style>\n",
       "<table border=\"1\" class=\"dataframe\">\n",
       "  <thead>\n",
       "    <tr style=\"text-align: right;\">\n",
       "      <th></th>\n",
       "      <th>label</th>\n",
       "      <th>1x1</th>\n",
       "      <th>1x2</th>\n",
       "      <th>1x3</th>\n",
       "      <th>1x4</th>\n",
       "      <th>1x5</th>\n",
       "      <th>1x6</th>\n",
       "      <th>1x7</th>\n",
       "      <th>1x8</th>\n",
       "      <th>1x9</th>\n",
       "      <th>...</th>\n",
       "      <th>28x19</th>\n",
       "      <th>28x20</th>\n",
       "      <th>28x21</th>\n",
       "      <th>28x22</th>\n",
       "      <th>28x23</th>\n",
       "      <th>28x24</th>\n",
       "      <th>28x25</th>\n",
       "      <th>28x26</th>\n",
       "      <th>28x27</th>\n",
       "      <th>28x28</th>\n",
       "    </tr>\n",
       "  </thead>\n",
       "  <tbody>\n",
       "    <tr>\n",
       "      <th>0</th>\n",
       "      <td>5</td>\n",
       "      <td>0</td>\n",
       "      <td>0</td>\n",
       "      <td>0</td>\n",
       "      <td>0</td>\n",
       "      <td>0</td>\n",
       "      <td>0</td>\n",
       "      <td>0</td>\n",
       "      <td>0</td>\n",
       "      <td>0</td>\n",
       "      <td>...</td>\n",
       "      <td>0</td>\n",
       "      <td>0</td>\n",
       "      <td>0</td>\n",
       "      <td>0</td>\n",
       "      <td>0</td>\n",
       "      <td>0</td>\n",
       "      <td>0</td>\n",
       "      <td>0</td>\n",
       "      <td>0</td>\n",
       "      <td>0</td>\n",
       "    </tr>\n",
       "    <tr>\n",
       "      <th>1</th>\n",
       "      <td>0</td>\n",
       "      <td>0</td>\n",
       "      <td>0</td>\n",
       "      <td>0</td>\n",
       "      <td>0</td>\n",
       "      <td>0</td>\n",
       "      <td>0</td>\n",
       "      <td>0</td>\n",
       "      <td>0</td>\n",
       "      <td>0</td>\n",
       "      <td>...</td>\n",
       "      <td>0</td>\n",
       "      <td>0</td>\n",
       "      <td>0</td>\n",
       "      <td>0</td>\n",
       "      <td>0</td>\n",
       "      <td>0</td>\n",
       "      <td>0</td>\n",
       "      <td>0</td>\n",
       "      <td>0</td>\n",
       "      <td>0</td>\n",
       "    </tr>\n",
       "    <tr>\n",
       "      <th>2</th>\n",
       "      <td>4</td>\n",
       "      <td>0</td>\n",
       "      <td>0</td>\n",
       "      <td>0</td>\n",
       "      <td>0</td>\n",
       "      <td>0</td>\n",
       "      <td>0</td>\n",
       "      <td>0</td>\n",
       "      <td>0</td>\n",
       "      <td>0</td>\n",
       "      <td>...</td>\n",
       "      <td>0</td>\n",
       "      <td>0</td>\n",
       "      <td>0</td>\n",
       "      <td>0</td>\n",
       "      <td>0</td>\n",
       "      <td>0</td>\n",
       "      <td>0</td>\n",
       "      <td>0</td>\n",
       "      <td>0</td>\n",
       "      <td>0</td>\n",
       "    </tr>\n",
       "    <tr>\n",
       "      <th>3</th>\n",
       "      <td>1</td>\n",
       "      <td>0</td>\n",
       "      <td>0</td>\n",
       "      <td>0</td>\n",
       "      <td>0</td>\n",
       "      <td>0</td>\n",
       "      <td>0</td>\n",
       "      <td>0</td>\n",
       "      <td>0</td>\n",
       "      <td>0</td>\n",
       "      <td>...</td>\n",
       "      <td>0</td>\n",
       "      <td>0</td>\n",
       "      <td>0</td>\n",
       "      <td>0</td>\n",
       "      <td>0</td>\n",
       "      <td>0</td>\n",
       "      <td>0</td>\n",
       "      <td>0</td>\n",
       "      <td>0</td>\n",
       "      <td>0</td>\n",
       "    </tr>\n",
       "    <tr>\n",
       "      <th>4</th>\n",
       "      <td>9</td>\n",
       "      <td>0</td>\n",
       "      <td>0</td>\n",
       "      <td>0</td>\n",
       "      <td>0</td>\n",
       "      <td>0</td>\n",
       "      <td>0</td>\n",
       "      <td>0</td>\n",
       "      <td>0</td>\n",
       "      <td>0</td>\n",
       "      <td>...</td>\n",
       "      <td>0</td>\n",
       "      <td>0</td>\n",
       "      <td>0</td>\n",
       "      <td>0</td>\n",
       "      <td>0</td>\n",
       "      <td>0</td>\n",
       "      <td>0</td>\n",
       "      <td>0</td>\n",
       "      <td>0</td>\n",
       "      <td>0</td>\n",
       "    </tr>\n",
       "  </tbody>\n",
       "</table>\n",
       "<p>5 rows × 785 columns</p>\n",
       "</div>"
      ],
      "text/plain": [
       "   label  1x1  1x2  1x3  1x4  1x5  1x6  1x7  1x8  1x9  ...  28x19  28x20  \\\n",
       "0      5    0    0    0    0    0    0    0    0    0  ...      0      0   \n",
       "1      0    0    0    0    0    0    0    0    0    0  ...      0      0   \n",
       "2      4    0    0    0    0    0    0    0    0    0  ...      0      0   \n",
       "3      1    0    0    0    0    0    0    0    0    0  ...      0      0   \n",
       "4      9    0    0    0    0    0    0    0    0    0  ...      0      0   \n",
       "\n",
       "   28x21  28x22  28x23  28x24  28x25  28x26  28x27  28x28  \n",
       "0      0      0      0      0      0      0      0      0  \n",
       "1      0      0      0      0      0      0      0      0  \n",
       "2      0      0      0      0      0      0      0      0  \n",
       "3      0      0      0      0      0      0      0      0  \n",
       "4      0      0      0      0      0      0      0      0  \n",
       "\n",
       "[5 rows x 785 columns]"
      ]
     },
     "execution_count": 4,
     "metadata": {},
     "output_type": "execute_result"
    }
   ],
   "source": [
    "mnist_df.head(5)"
   ]
  },
  {
   "cell_type": "markdown",
   "metadata": {},
   "source": [
    "Let's create the I/O data for our experiments."
   ]
  },
  {
   "cell_type": "code",
   "execution_count": 5,
   "metadata": {
    "execution": {
     "iopub.execute_input": "2024-11-29T18:24:33.297377Z",
     "iopub.status.busy": "2024-11-29T18:24:33.296874Z",
     "iopub.status.idle": "2024-11-29T18:24:33.504738Z",
     "shell.execute_reply": "2024-11-29T18:24:33.504085Z"
    }
   },
   "outputs": [],
   "source": [
    "mnistIoData = sensai.InputOutputData.from_data_frame(mnist_df, \"label\")"
   ]
  },
  {
   "cell_type": "markdown",
   "metadata": {},
   "source": [
    "Now that we have the image data separated from the labels, let's write a function to restore the 2D image arrays and take a look at some of the images."
   ]
  },
  {
   "cell_type": "code",
   "execution_count": 6,
   "metadata": {
    "execution": {
     "iopub.execute_input": "2024-11-29T18:24:33.507682Z",
     "iopub.status.busy": "2024-11-29T18:24:33.507266Z",
     "iopub.status.idle": "2024-11-29T18:24:33.939236Z",
     "shell.execute_reply": "2024-11-29T18:24:33.938514Z"
    }
   },
   "outputs": [
    {
     "data": {
      "image/png": "[encoded data removed]",
      "text/plain": [
       "<Figure size 1000x500 with 5 Axes>"
      ]
     },
     "metadata": {},
     "output_type": "display_data"
    }
   ],
   "source": [
    "import matplotlib.pyplot as plt\n",
    "\n",
    "def reshape_2d_image(series):\n",
    "    return series.values.reshape(28, 28)\n",
    "\n",
    "fig, axs = plt.subplots(nrows=1, ncols=5, figsize=(10, 5))\n",
    "for i in range(5):\n",
    "    axs[i].imshow(reshape_2d_image(mnistIoData.inputs.iloc[i]), cmap=\"binary\")"
   ]
  },
  {
   "cell_type": "markdown",
   "metadata": {},
   "source": [
    "### Applying Predefined Models\n",
    "\n"
   ]
  },
  {
   "cell_type": "markdown",
   "metadata": {},
   "source": [
    "We create an evaluator in order to test the performance of our models, randomly splitting the data."
   ]
  },
  {
   "cell_type": "code",
   "execution_count": 7,
   "metadata": {
    "execution": {
     "iopub.execute_input": "2024-11-29T18:24:33.942352Z",
     "iopub.status.busy": "2024-11-29T18:24:33.942003Z",
     "iopub.status.idle": "2024-11-29T18:24:33.960974Z",
     "shell.execute_reply": "2024-11-29T18:24:33.960297Z"
    }
   },
   "outputs": [],
   "source": [
    "evaluator_params = sensai.evaluation.ClassificationEvaluatorParams(fractional_split_test_fraction=0.2)\n",
    "eval_util = sensai.evaluation.ClassificationModelEvaluation(mnistIoData, evaluator_params=evaluator_params)"
   ]
  },
  {
   "cell_type": "markdown",
   "metadata": {},
   "source": [
    "One pre-defined model we could try is a simple multi-layer perceptron. A PyTorch-based implementation is provided via class `MultiLayerPerceptronVectorClassificationModel`. This implementation supports CUDA-accelerated computations (on Nvidia GPUs), yet we shall stick to CPU-based computation (cuda=False) in this tutorial."
   ]
  },
  {
   "cell_type": "code",
   "execution_count": 8,
   "metadata": {
    "execution": {
     "iopub.execute_input": "2024-11-29T18:24:33.963595Z",
     "iopub.status.busy": "2024-11-29T18:24:33.963232Z",
     "iopub.status.idle": "2024-11-29T18:24:35.367703Z",
     "shell.execute_reply": "2024-11-29T18:24:35.367090Z"
    }
   },
   "outputs": [],
   "source": [
    "import sensai.torch\n",
    "\n",
    "nn_optimiser_params = sensai.torch.NNOptimiserParams(early_stopping_epochs=2, batch_size=54)\n",
    "torch_mlp_model = sensai.torch.models.MultiLayerPerceptronVectorClassificationModel(hidden_dims=(50, 20),\n",
    "        cuda=False, normalisation_mode=sensai.torch.NormalisationMode.MAX_ALL,\n",
    "        nn_optimiser_params=nn_optimiser_params, p_dropout=0.0) \\\n",
    "    .with_name(\"MLP\")"
   ]
  },
  {
   "cell_type": "markdown",
   "metadata": {},
   "source": [
    "Neural networks work best on **normalised inputs**, so we have opted to apply basic normalisation by specifying a normalisation mode which will transforms inputs by dividing by the maximum value found across all columns in the training data. For more elaborate normalisation options, we could have used a data frame transformer (DFT), particularly `DFTNormalisation` or `DFTSkLearnTransformer`.\n",
    "\n",
    "sensAI's default **neural network training algorithm** is based on early stopping, which involves checking, in regular intervals, the performance of the model on a validation set (which is split from the training set) and ultimately selecting the model that performed best on the validation set. You have full control over the loss evaluation method used to select the best model (by passing a respective `NNLossEvaluator` instance to NNOptimiserParams) as well as the method that is used to split the training set into the actual training set and the validation set (by adding a `DataFrameSplitter` to the model or using a custom `TorchDataSetProvider`).\n",
    "\n",
    "Given the vectorised nature of our MNIST dataset, we can apply any type of model which can accept the numeric inputs. Let's compare the neural network we defined above against another pre-defined model, which is based on a scikit-learn implementation and uses decision trees rather than neural networks."
   ]
  },
  {
   "cell_type": "code",
   "execution_count": 9,
   "metadata": {
    "execution": {
     "iopub.execute_input": "2024-11-29T18:24:35.370434Z",
     "iopub.status.busy": "2024-11-29T18:24:35.370219Z",
     "iopub.status.idle": "2024-11-29T18:24:35.392279Z",
     "shell.execute_reply": "2024-11-29T18:24:35.391762Z"
    }
   },
   "outputs": [],
   "source": [
    "random_forest_model = sensai.sklearn.classification.SkLearnRandomForestVectorClassificationModel(\n",
    "        min_samples_leaf=1,\n",
    "        n_estimators=10) \\\n",
    "    .with_name(\"RandomForest\")"
   ]
  },
  {
   "cell_type": "markdown",
   "metadata": {},
   "source": [
    "Let's compare the two models using our evaluation utility."
   ]
  },
  {
   "cell_type": "code",
   "execution_count": 10,
   "metadata": {
    "execution": {
     "iopub.execute_input": "2024-11-29T18:24:35.394782Z",
     "iopub.status.busy": "2024-11-29T18:24:35.394386Z",
     "iopub.status.idle": "2024-11-29T18:24:55.463565Z",
     "shell.execute_reply": "2024-11-29T18:24:55.462825Z"
    }
   },
   "outputs": [],
   "source": [
    "eval_util.compare_models([random_forest_model, torch_mlp_model]);"
   ]
  },
  {
   "cell_type": "markdown",
   "metadata": {},
   "source": [
    "Both models perform reasonably well."
   ]
  },
  {
   "cell_type": "markdown",
   "metadata": {},
   "source": [
    "### Creating a Custom CNN Model\n",
    "\n",
    "Given that this is an image recognition problem, it can be sensible to apply convolutional neural networks (CNNs), which can analyse patches of the image in order to generate more high-level features from them.\n",
    "Specifically, we shall apply a neural network model which uses multiple convolutions, a max-pooling layer and a multi-layer perceptron at the end in order to produce the classification.\n",
    "\n",
    "For classification and regression, sensAI provides the fundamental classes `TorchVectorClassificationModel` and `TorchVectorRegressionModel` respectively. Ultimately, these classes will wrap an instance of `torch.nn.Module`, the base class for neural networks in PyTorch.\n",
    "\n",
    "#### Wrapping a Custom torch.nn.Module Instance\n",
    "\n",
    "If we already had an implementation of a `torch.nn.Module`, it can be straightforwardly adapted to become a sensAI ``VectorModel``.\n",
    "\n",
    "Let's say we had the following implementation of a torch module, which performs the steps described above.\n"
   ]
  },
  {
   "cell_type": "code",
   "execution_count": 11,
   "metadata": {
    "execution": {
     "iopub.execute_input": "2024-11-29T18:24:55.467821Z",
     "iopub.status.busy": "2024-11-29T18:24:55.467041Z",
     "iopub.status.idle": "2024-11-29T18:24:55.510806Z",
     "shell.execute_reply": "2024-11-29T18:24:55.510122Z"
    }
   },
   "outputs": [],
   "source": [
    "import torch\n",
    "\n",
    "class MnistCnnModule(torch.nn.Module):\n",
    "    def __init__(self, image_dim: int, output_dim: int, num_conv: int, kernel_size: int, pooling_kernel_size: int,\n",
    "            mlp_hidden_dims: Sequence[int], output_activation_fn: sensai.torch.ActivationFunction, p_dropout=0.0):\n",
    "        super().__init__()\n",
    "        k = kernel_size\n",
    "        p = pooling_kernel_size\n",
    "        self.cnn = torch.nn.Conv2d(1, num_conv, (k, k))\n",
    "        self.pool = torch.nn.MaxPool2d((p, p))\n",
    "        self.dropout = torch.nn.Dropout(p=p_dropout)\n",
    "        reduced_dim = (image_dim - k + 1) / p\n",
    "        if int(reduced_dim) != reduced_dim:\n",
    "            raise ValueError(f\"Pooling kernel size {p} is not a divisor of post-convolution dimension {image_dim - k + 1}\")\n",
    "        self.mlp = sensai.torch.models.MultiLayerPerceptron(num_conv * int(reduced_dim) ** 2, output_dim, mlp_hidden_dims,\n",
    "            output_activation_fn=output_activation_fn.get_torch_function(),\n",
    "            hid_activation_fn=sensai.torch.ActivationFunction.RELU.get_torch_function(),\n",
    "            p_dropout=p_dropout)\n",
    "\n",
    "    def forward(self, x):\n",
    "        x = self.cnn(x.unsqueeze(1))\n",
    "        x = self.pool(x)\n",
    "        x = x.view(x.shape[0], -1)\n",
    "        x = self.dropout(x)\n",
    "        return self.mlp(x)"
   ]
  },
  {
   "cell_type": "markdown",
   "metadata": {},
   "source": [
    "Since this module requires 2D images as input, we will need a component that transforms the vector input that is given in our data frame into a tensor that will serve as input to the module.\n",
    "In sensAI, the abstraction for this purpose is a ``sensai.torch.Tensoriser``. A **Tensoriser** can, in principle, perform arbitrary computations in order to produce, from a data frame with N rows, one or more tensors of length N (first dimension equal to N) that will ultimately be fed to the neural network.\n",
    "\n",
    "Luckily, for the case at hand, we already have the function ``reshape_2d_image`` from above to assist in the implementation of the tensoriser."
   ]
  },
  {
   "cell_type": "code",
   "execution_count": 12,
   "metadata": {
    "execution": {
     "iopub.execute_input": "2024-11-29T18:24:55.513921Z",
     "iopub.status.busy": "2024-11-29T18:24:55.513670Z",
     "iopub.status.idle": "2024-11-29T18:24:55.546943Z",
     "shell.execute_reply": "2024-11-29T18:24:55.546404Z"
    }
   },
   "outputs": [],
   "source": [
    "class ImageReshapingInputTensoriser(sensai.torch.RuleBasedTensoriser):\n",
    "    def _tensorise(self, df: pd.DataFrame) -> Union[torch.Tensor, List[torch.Tensor]]:\n",
    "        images = [reshape_2d_image(row) for _, row in df.iterrows()]\n",
    "        return torch.tensor(np.stack(images)).float() / 255"
   ]
  },
  {
   "cell_type": "markdown",
   "metadata": {},
   "source": [
    "In this case, we derived the class from ``RuleBasedTensoriser`` rather than ``Tensoriser``, because our tensoriser does not require fitting. We additionally took care of the normalisation.\n",
    "\n",
    "Now we have all we need to create a sensAI ``TorchVectorClassificationModel`` that will work on the input/output data we loaded earlier."
   ]
  },
  {
   "cell_type": "code",
   "execution_count": 13,
   "metadata": {
    "execution": {
     "iopub.execute_input": "2024-11-29T18:24:55.549400Z",
     "iopub.status.busy": "2024-11-29T18:24:55.548982Z",
     "iopub.status.idle": "2024-11-29T18:24:55.581209Z",
     "shell.execute_reply": "2024-11-29T18:24:55.580653Z"
    }
   },
   "outputs": [],
   "source": [
    "cnn_module = MnistCnnModule(28, 10, 32, 5, 2, (200, 20), sensai.torch.ActivationFunction.LOG_SOFTMAX)\n",
    "nn_optimiser_params = sensai.torch.NNOptimiserParams(\n",
    "    optimiser=sensai.torch.Optimiser.ADAMW,\n",
    "    optimiser_lr=0.01,\n",
    "    batch_size=1024,\n",
    "    early_stopping_epochs=3)\n",
    "cnn_model_from_module = sensai.torch.TorchVectorClassificationModel.from_module(\n",
    "        cnn_module, sensai.torch.ClassificationOutputMode.LOG_PROBABILITIES,\n",
    "        cuda=False, nn_optimiser_params=nn_optimiser_params) \\\n",
    "    .with_input_tensoriser(ImageReshapingInputTensoriser()) \\\n",
    "    .with_name(\"CNN\")"
   ]
  },
  {
   "cell_type": "markdown",
   "metadata": {},
   "source": [
    "We have now fully defined all the necessary parameters, including parameters controlling the training of the model.\n",
    "\n",
    "We are now ready to evaluate the model."
   ]
  },
  {
   "cell_type": "code",
   "execution_count": 14,
   "metadata": {
    "execution": {
     "iopub.execute_input": "2024-11-29T18:24:55.583891Z",
     "iopub.status.busy": "2024-11-29T18:24:55.583381Z",
     "iopub.status.idle": "2024-11-29T18:25:55.775576Z",
     "shell.execute_reply": "2024-11-29T18:25:55.774755Z"
    }
   },
   "outputs": [],
   "source": [
    "eval_util.perform_simple_evaluation(cnn_model_from_module);"
   ]
  },
  {
   "cell_type": "markdown",
   "metadata": {},
   "source": [
    "#### Creating an Input-/Output-Adaptive Custom Model\n",
    "\n",
    "While the above approach allows us to straightforwardly encapsulate a ``torch.nn.Module``, it really doesn't follow sensAI's principle of adapting model hyperparameters based on the inputs and outputs we receive during training - whenever possible. Notice that in the above example, we had to hard-code the image dimension (``28``) as well as the number of classes (``10``), even though these parameters could have been easily determined from the data. Especially in other domains where feature engineering is possible, we might want to experiment with different combinations of features, and therefore automatically adapting to inputs is key if we want to avoid editing the model hyperparameters time and time again; similarly, we might change the set of target labels in our classification problem and the model should simply adapt to a changed output dimension.\n",
    "\n",
    "To design a model that can fully adapt to the inputs and outputs, we can simply subclass ``TorchVectorClassificationModel``, where the late instantiation of the underlying model is catered for. Naturally, delayed construction of the underlying model necessitates the use of factories and thus results in some indirections. \n",
    "\n",
    "If we had designed the above model to be within the sensAI ``VectorModel`` realm from the beginning, here's what we might have written:"
   ]
  },
  {
   "cell_type": "code",
   "execution_count": 15,
   "metadata": {
    "execution": {
     "iopub.execute_input": "2024-11-29T18:25:55.779935Z",
     "iopub.status.busy": "2024-11-29T18:25:55.779408Z",
     "iopub.status.idle": "2024-11-29T18:25:55.831033Z",
     "shell.execute_reply": "2024-11-29T18:25:55.830315Z"
    }
   },
   "outputs": [],
   "source": [
    "import torch\n",
    "\n",
    "class CnnModel(sensai.torch.TorchVectorClassificationModel):\n",
    "    def __init__(self, cuda: bool, kernel_size: int, num_conv: int, pooling_kernel_size: int, mlp_hidden_dims: Sequence[int],\n",
    "            nn_optimiser_params: sensai.torch.NNOptimiserParams, p_dropout=0.0):\n",
    "        self.cuda = cuda\n",
    "        self.output_activation_fn = sensai.torch.ActivationFunction.LOG_SOFTMAX\n",
    "        self.kernel_size = kernel_size\n",
    "        self.num_conv = num_conv\n",
    "        self.pooling_kernel_size = pooling_kernel_size\n",
    "        self.mlp_hidden_dims = mlp_hidden_dims\n",
    "        self.p_dropout = p_dropout\n",
    "        super().__init__(sensai.torch.ClassificationOutputMode.for_activation_fn(self.output_activation_fn),\n",
    "            torch_model_factory=functools.partial(self.VectorTorchModel, self),\n",
    "            nn_optimiser_params=nn_optimiser_params)\n",
    "\n",
    "    class VectorTorchModel(sensai.torch.VectorTorchModel):\n",
    "        def __init__(self, parent: \"CnnModel\"):\n",
    "            super().__init__(parent.cuda)\n",
    "            self._parent = parent\n",
    "\n",
    "        def create_torch_module_for_dims(self, input_dim: int, output_dim: int) -> torch.nn.Module:\n",
    "            return self.Module(int(np.sqrt(input_dim)), output_dim, self._parent)\n",
    "\n",
    "        class Module(torch.nn.Module):\n",
    "            def __init__(self, image_dim, output_dim, parent: \"CnnModel\"):\n",
    "                super().__init__()\n",
    "                k = parent.kernel_size\n",
    "                p = parent.pooling_kernel_size\n",
    "                self.cnn = torch.nn.Conv2d(1, parent.num_conv, (k, k))\n",
    "                self.pool = torch.nn.MaxPool2d((p, p))\n",
    "                self.dropout = torch.nn.Dropout(p=parent.p_dropout)\n",
    "                reduced_dim = (image_dim - k + 1) / p\n",
    "                if int(reduced_dim) != reduced_dim:\n",
    "                    raise ValueError(f\"Pooling kernel size {p} is not a divisor of post-convolution dimension {image_dim - k + 1}\")\n",
    "                self.mlp = sensai.torch.models.MultiLayerPerceptron(parent.num_conv * int(reduced_dim) ** 2, output_dim, parent.mlp_hidden_dims,\n",
    "                    output_activation_fn=parent.output_activation_fn.get_torch_function(),\n",
    "                    hid_activation_fn=sensai.torch.ActivationFunction.RELU.get_torch_function(),\n",
    "                    p_dropout=parent.p_dropout)\n",
    "\n",
    "            def forward(self, x):\n",
    "                x = self.cnn(x.unsqueeze(1))\n",
    "                x = self.pool(x)\n",
    "                x = x.view(x.shape[0], -1)\n",
    "                x = self.dropout(x)\n",
    "                return self.mlp(x)"
   ]
  },
  {
   "cell_type": "markdown",
   "metadata": {},
   "source": [
    "It is only insignificantly more code than in the previous implementation.\n",
    "The outer class, which provides the sensAI `VectorModel` features, serves mainly to hold the parameters, and the inner class inheriting from `VectorTorchModel` serves as a factory for the `torch.nn.Module`, providing us with the input and output dimensions (number of input columns and number of classes respectively) based on the data, thus enabling the model to adapt. If we had required even more adaptiveness, we could have learnt more about the data from within the fitting process of a custom input tensoriser (i.e. we could have added an inner ``Tensoriser`` class, which could have derived further hyperparameters from the data in its implementation of the fitting method.)\n",
    "\n",
    "Let's instantiate our model and evaluate it."
   ]
  },
  {
   "cell_type": "code",
   "execution_count": 16,
   "metadata": {
    "execution": {
     "iopub.execute_input": "2024-11-29T18:25:55.836112Z",
     "iopub.status.busy": "2024-11-29T18:25:55.834916Z",
     "iopub.status.idle": "2024-11-29T18:26:55.384595Z",
     "shell.execute_reply": "2024-11-29T18:26:55.383762Z"
    }
   },
   "outputs": [],
   "source": [
    "cnn_model = CnnModel(cuda=False, kernel_size=5, num_conv=32, pooling_kernel_size=2, mlp_hidden_dims=(200,20),\n",
    "        nn_optimiser_params=nn_optimiser_params) \\\n",
    "    .with_name(\"CNN'\") \\\n",
    "    .with_input_tensoriser(ImageReshapingInputTensoriser())\n",
    "\n",
    "eval_data = eval_util.perform_simple_evaluation(cnn_model)"
   ]
  },
  {
   "cell_type": "markdown",
   "metadata": {},
   "source": [
    "Our CNN models do improve upon the MLP model we evaluated earlier. Let's do a comparison of all the models we trained thus far:"
   ]
  },
  {
   "cell_type": "code",
   "execution_count": 17,
   "metadata": {
    "execution": {
     "iopub.execute_input": "2024-11-29T18:26:55.389421Z",
     "iopub.status.busy": "2024-11-29T18:26:55.388204Z",
     "iopub.status.idle": "2024-11-29T18:26:59.912216Z",
     "shell.execute_reply": "2024-11-29T18:26:59.911411Z"
    }
   },
   "outputs": [
    {
     "data": {
      "text/html": [
       "<div>\n",
       "<style scoped>\n",
       "    .dataframe tbody tr th:only-of-type {\n",
       "        vertical-align: middle;\n",
       "    }\n",
       "\n",
       "    .dataframe tbody tr th {\n",
       "        vertical-align: top;\n",
       "    }\n",
       "\n",
       "    .dataframe thead th {\n",
       "        text-align: right;\n",
       "    }\n",
       "</style>\n",
       "<table border=\"1\" class=\"dataframe\">\n",
       "  <thead>\n",
       "    <tr style=\"text-align: right;\">\n",
       "      <th></th>\n",
       "      <th>accuracy</th>\n",
       "      <th>balancedAccuracy</th>\n",
       "    </tr>\n",
       "    <tr>\n",
       "      <th>model_name</th>\n",
       "      <th></th>\n",
       "      <th></th>\n",
       "    </tr>\n",
       "  </thead>\n",
       "  <tbody>\n",
       "    <tr>\n",
       "      <th>MLP</th>\n",
       "      <td>0.962250</td>\n",
       "      <td>0.961897</td>\n",
       "    </tr>\n",
       "    <tr>\n",
       "      <th>CNN</th>\n",
       "      <td>0.978333</td>\n",
       "      <td>0.978435</td>\n",
       "    </tr>\n",
       "    <tr>\n",
       "      <th>CNN'</th>\n",
       "      <td>0.977167</td>\n",
       "      <td>0.977261</td>\n",
       "    </tr>\n",
       "    <tr>\n",
       "      <th>RandomForest</th>\n",
       "      <td>0.946667</td>\n",
       "      <td>0.945917</td>\n",
       "    </tr>\n",
       "  </tbody>\n",
       "</table>\n",
       "</div>"
      ],
      "text/plain": [
       "              accuracy  balancedAccuracy\n",
       "model_name                              \n",
       "MLP           0.962250          0.961897\n",
       "CNN           0.978333          0.978435\n",
       "CNN'          0.977167          0.977261\n",
       "RandomForest  0.946667          0.945917"
      ]
     },
     "execution_count": 17,
     "metadata": {},
     "output_type": "execute_result"
    }
   ],
   "source": [
    "comparison_data = eval_util.compare_models([torch_mlp_model, cnn_model_from_module, cnn_model, random_forest_model], fit_models=False)\n",
    "comparison_data.results_df"
   ]
  },
  {
   "cell_type": "markdown",
   "metadata": {},
   "source": [
    "Note that any differences between the two CNN models are due only to randomness in the parameter initialisation; they are functionally identical.\n",
    "\n",
    "Could the CNN model have produced even better results? Let's take a look at some examples where the CNN model went wrong by inspecting the evaluation data that was returned earlier."
   ]
  },
  {
   "cell_type": "code",
   "execution_count": 18,
   "metadata": {
    "execution": {
     "iopub.execute_input": "2024-11-29T18:26:59.915643Z",
     "iopub.status.busy": "2024-11-29T18:26:59.915153Z",
     "iopub.status.idle": "2024-11-29T18:27:01.254804Z",
     "shell.execute_reply": "2024-11-29T18:27:01.254036Z"
    }
   },
   "outputs": [
    {
     "data": {
      "image/png": "[encoded data removed]",
      "text/plain": [
       "<Figure size 900x900 with 9 Axes>"
      ]
     },
     "metadata": {},
     "output_type": "display_data"
    }
   ],
   "source": [
    "misclassified = eval_data.get_misclassified_triples_pred_true_input()\n",
    "fig, axs = plt.subplots(nrows=3, ncols=3, figsize=(9,9))\n",
    "for i, (predClass, trueClass, input) in enumerate(misclassified[:9]):\n",
    "    axs[i//3][i%3].imshow(reshape_2d_image(input), cmap=\"binary\")\n",
    "    axs[i//3][i%3].set_title(f\"{trueClass} misclassified as {predClass}\")\n",
    "plt.tight_layout()"
   ]
  },
  {
   "cell_type": "markdown",
   "metadata": {},
   "source": [
    "While some of these examples are indeed ambiguous, there still is room for improvement."
   ]
  }
 ],
 "metadata": {
  "interpreter": {
   "hash": "9b3442ae4bdb9561e722e28424c33a03c16d40b3aa50369b79d367cad7b1adea"
  },
  "kernelspec": {
   "display_name": "Python 3.8.13 ('sensai')",
   "language": "python",
   "name": "python3"
  },
  "language_info": {
   "codemirror_mode": {
    "name": "ipython",
    "version": 3
   },
   "file_extension": ".py",
   "mimetype": "text/x-python",
   "name": "python",
   "nbconvert_exporter": "python",
   "pygments_lexer": "ipython3",
   "version": "3.8.18"
  }
 },
 "nbformat": 4,
 "nbformat_minor": 2
}
