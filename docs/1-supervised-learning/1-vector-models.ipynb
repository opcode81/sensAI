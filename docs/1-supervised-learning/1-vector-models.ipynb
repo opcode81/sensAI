{
 "cells": [
  {
   "cell_type": "markdown",
   "metadata": {},
   "source": [
    "# Models with Modular Data Pipelines"
   ]
  },
  {
   "cell_type": "code",
   "execution_count": null,
   "metadata": {
    "tags": [
     "hide-cell"
    ]
   },
   "outputs": [],
   "source": [
    "%load_ext autoreload\n",
    "%autoreload 2\n",
    "\n",
    "import sys; sys.path.append(\"../../src\")"
   ]
  },
  {
   "cell_type": "code",
   "execution_count": null,
   "metadata": {
    "tags": [
     "hide-cell"
    ]
   },
   "outputs": [],
   "source": [
    "import sensai\n",
    "import sensai.xgboost\n",
    "import sensai.torch\n",
    "import pandas as pd\n",
    "import torch"
   ]
  },
  {
   "cell_type": "markdown",
   "metadata": {},
   "source": [
    "## VectorModel\n",
    "\n",
    "The backbone of supervised learning implementations is the `VectorModel` abstraction.\n",
    "It is so named, because, in computer science, a *vector* corresponds to an array of data,\n",
    "and vector models map such vectors to the desired outputs, i.e. regression targets or \n",
    "classes.\n",
    "\n",
    "It is important to note that this does *not* limit vector models to tabular data, because the data within\n",
    "a vector can take arbitrary forms (in contrast to vectors as they are defined in mathematics).\n",
    "Every element of an input vector could itself be arbitrary\n",
    "complex, and could, in the most general sense, be any kind of object.\n",
    "\n",
    "### The VectorModel Class Hierarchy\n",
    "\n",
    "`VectorModel` is an abstract base class.\n",
    "From it, abstract base classes for classification (`VectorClassificationModel`) and regression (`VectorRegressionModel`) are derived. And we furthermore provide base classes for rule-based models, facilitating the implementation of models that do not require learning (`RuleBasedVectorClassificationModel`, `RuleBasedVectorRegressionModel`).\n",
    "\n",
    "These base classes are, in turn, specialised in order to provide direct access to model implementations based on widely used machine learning libraries such as scikit-learn, XGBoost, PyTorch, etc.\n",
    "Use your IDE's hierarchy view to inspect them.\n",
    "\n",
    "<!-- TODO: hierarchical bullet item list with hierarchy (or maybe auto-generate?) -->\n",
    "\n",
    "### DataFrame-Based Interfaces\n",
    "\n",
    "Vector models use pandas DataFrames as the fundmental input and output data structures.\n",
    "Every row in a data frame corresponds to a vector of data, and an entire data frame can thus be viewed as a dataset or batch of data. Data frames are a good base representation for input data because\n",
    "  * they provide rudimentary meta-data in the form of column names, avoiding ambiguity.\n",
    "  * they can contain arbitrarily complex data, yet in the simplest of cases, they can directly be mapped to a data matrix (2D array) of features that simple models can directly process.\n",
    "\n",
    "The `fit` and `predict` methods of `VectorModel` take data frames as input, and the latter furthermore returns its predictions as a data frame.\n",
    "It is important to note that the DataFrame-based interface does not limit the scope of the models that can be applied, as one of the key principles of vector models is that they may define arbitrary model-specific transformations of the data originally contained in a data frame (e.g. a conversion from complex objects in data frames to one or more tensors for neural networks), as we shall see below.\n",
    "\n",
    "Here's the particularly simple Iris dataset for flower species classification, where the features are measurements of petals and sepals:"
   ]
  },
  {
   "cell_type": "code",
   "execution_count": null,
   "metadata": {},
   "outputs": [],
   "source": [
    "dataset = sensai.data.dataset.DataSetClassificationIris()\n",
    "io_data = dataset.load_io_data()\n",
    "io_data.to_df().sample(8)"
   ]
  },
  {
   "cell_type": "markdown",
   "metadata": {},
   "source": [
    "Here, `io_data` is an instance of `InputOutputData`, which contains two data frames, `inputs` and `outputs`.\n",
    "The `to_df` method merges the two data frames into one for easier visualisation.\n",
    "\n",
    "Let's split the dataset and apply a model to it:"
   ]
  },
  {
   "cell_type": "code",
   "execution_count": null,
   "metadata": {},
   "outputs": [],
   "source": [
    "# load and split a dataset\n",
    "splitter = sensai.data.DataSplitterFractional(0.8)\n",
    "train_io_data, test_io_data = splitter.split(io_data)\n",
    "\n",
    "# train a model\n",
    "model = sensai.sklearn.classification.SkLearnRandomForestVectorClassificationModel(\n",
    "    n_estimators=15)\n",
    "model.fit_input_output_data(train_io_data)\n",
    "\n",
    "# make predictions\n",
    "predictions = model.predict(test_io_data.inputs)"
   ]
  },
  {
   "cell_type": "markdown",
   "metadata": {},
   "source": [
    "The `fit_input_output_data` method is just a convenience method to pass an `InputOutputData` instance instead of two data frames. It is equivalent to\n",
    "\n",
    "```python\n",
    "model.fit(train_io_data.inputs, train_io_data.outputs)\n",
    "```\n",
    "\n",
    "where the two data frames containing inputs and outputs are passed separately.\n",
    "\n",
    "Now let's compare the ground truth to some of the predictions:"
   ]
  },
  {
   "cell_type": "code",
   "execution_count": null,
   "metadata": {},
   "outputs": [],
   "source": [
    "pd.concat((test_io_data.outputs, predictions), axis=1).sample(8)"
   ]
  },
  {
   "cell_type": "markdown",
   "metadata": {},
   "source": [
    "### Implementing Custom Models\n",
    "\n",
    "It is straightforward to implement your own model. Simply subclass the appropriate base class depending on the type of model you want to implement.\n",
    "\n",
    "For example, let us implement a simple classifier where we always return the a priori probability of each class in the training data, ignoring the input data for predictions. For this case, we inherit from `VectorClassificationModel` and implement the two abstract methods it defines."
   ]
  },
  {
   "cell_type": "code",
   "execution_count": null,
   "metadata": {},
   "outputs": [],
   "source": [
    "class PriorProbabilityVectorClassificationModel(sensai.VectorClassificationModel):\n",
    "    def _fit_classifier(self, x: pd.DataFrame, y: pd.DataFrame):\n",
    "        self._prior_probabilities = y.iloc[:, 0].value_counts(normalize=True).to_dict()\n",
    "\n",
    "    def _predict_class_probabilities(self, x: pd.DataFrame) -> pd.DataFrame:\n",
    "        values = [self._prior_probabilities[cls] for cls in self.get_class_labels()]\n",
    "        return pd.DataFrame([values] * len(x), columns=self.get_class_labels(), index=x.index)"
   ]
  },
  {
   "cell_type": "markdown",
   "metadata": {},
   "source": [
    "Adapting a model implementation from another machine learning library is typically just a few lines. For models that adhere to the scikit-learn interfaces for learning and prediction, there are abstract base classes that make the adaptation particularly straightforward."
   ]
  },
  {
   "cell_type": "markdown",
   "metadata": {},
   "source": [
    "### Configuration\n",
    "\n",
    "Apart from the parameters passed at construction, which are specific to the type of model in question, all vector models can be flexibly configured via methods that can be called post-construction.\n",
    "These methods all have the `with_` prefix, indicating that they return the instance itself (akin to the builder pattern), allowing calls to be chained in a single statement.\n",
    "\n",
    "The most relevant such methods are:\n",
    "\n",
    "* `with_name` to name the model (for reporting purposes)\n",
    "* `with_raw_input_transformer` for adding an initial input transformation\n",
    "* `with_feature_generator` and `with_feature_collector` for specifying how to generate features from the input data\n",
    "* `with_feature_transformers` for specifying how the generated features shall be transformed\n",
    "\n",
    "The latter three points are essential for defining modular input pipelines and will be addressed in detail below.\n",
    "\n",
    "All configured options are fully reflected in the model's string representation, which can be pretty-printed with the `pprint` method."
   ]
  },
  {
   "cell_type": "code",
   "execution_count": null,
   "metadata": {},
   "outputs": [],
   "source": [
    "str(model.with_name(\"RandomForest\"))"
   ]
  },
  {
   "cell_type": "code",
   "execution_count": null,
   "metadata": {},
   "outputs": [],
   "source": [
    "model.pprint()"
   ]
  },
  {
   "cell_type": "markdown",
   "metadata": {},
   "source": [
    "## Modular Pipelines\n",
    "\n",
    "A key principle of sensAI's vector models is that data pipelines \n",
    "* can be **strongly associated with a model**. This is critically important of several heterogeneous models shall be applied to the same use case. Typically, every model has different requirements regarding the data it can process and the representation it requires to process it optimally.\n",
    "* are to be **modular**, meaning that a pipeline can be composed from reusable and user-definable components.\n",
    "\n",
    "An input pipeline typically serves the purpose of answering the following questions:\n",
    "\n",
    "* **How shall the data be pre-processed?**\n",
    "\n",
    "  It might be necessary to process the data before we can use it and extract data from it.\n",
    "  We may need to filter or clean the data;\n",
    "  we may need to establish a usable representation from raw data (e.g. convert a string-based representation of a date into a proper data structure);\n",
    "  or we may need to infer/impute missing data.\n",
    "\n",
    "  The relevant abstraction for this task is `DataFrameTransformer`, which, as the name suggests, can arbitrarily transform a data frame.\n",
    "  All non-abstract class implementations have the prefix `DFT` in sensAI and thus are easily discovered through auto-completion.\n",
    "\n",
    "  A `VectorModel` can be configured to apply a pre-processing transformation via method `with_raw_input_transformers`.\n",
    "\n",
    "* **What is the data used by the model?**\n",
    "\n",
    "  The relevant abstraction is `FeatureGenerator`. Via `FeatureGenerator` instances, a model can define which set of features is to be used. Moreover, these instances can hold meta-data on the respective features, which can be leveraged for downstream representation. \n",
    "  In sensAI, the class names of all feature generator implementations use the prefix `FeatureGenerator`.\n",
    "\n",
    "  A `VectorModel` can be configured to answer this question via method `with_feature_generator` (or `with_feature_collector`).\n",
    "\n",
    "* **How does that data need to be represented?**\n",
    "\n",
    "  Different models can require different representations of the same data. For example, some models might require all features to be numeric, thus requiring categorical features to be encoded, while others might work better with the original representation.\n",
    "  Furthermore, some models might work better with numerical features normalised or scaled in a certain way while it makes no difference to others.\n",
    "  We can address these requirements by adding model-specific transformations.\n",
    "\n",
    "  The relevant abstraction is, once again, `DataFrameTransformer`.\n",
    "\n",
    "  A `VectorModel` can be configured to apply a transformation to its features via method `with_feature_transformers`.\n",
    "\n",
    "The three pipeline stages are applied in the order presented above, and all components are optional, i.e. if a model does not define any raw input transformers, then the original data remains unmodified. If a model defines no feature generator, then the set of features is given by the full input data frame, etc."
   ]
  },
  {
   "cell_type": "markdown",
   "metadata": {},
   "source": [
    "### Example Dataset: Titanic Survival\n",
    "\n",
    "Let us consider the well-known Titanic Survival data set as an example.\n",
    "\n",
    "Every data point holds data on a passenger. The data set has the following potentially predictive columns,\n",
    "\n",
    "* `Pclass`: the passenger ticket class as an integer (1=first, 2=second, 3=third)\n",
    "* `Sex`: the passenger's sex (male or female)\n",
    "* `Age`: the passenger's age in years (integer); this feature is frequently missing\n",
    "* `SibSp`: the number of siblings and spouses of the passenger\n",
    "* `Parch`: the number of parents and children of the passenger\n",
    "* `Fare`: the fare price paid\n",
    "* `Embark`: the port of embarkation (C=Cherbourg, Q=Queenstown, S=Southampton); this feature is missing for two passengers\n",
    "\n",
    "and some further meta-data columns (Name, Cabin).\n",
    "\n",
    "The goal is to predict the column 'Survived' indicating whether the passenger survived (1) or not (0)."
   ]
  },
  {
   "cell_type": "code",
   "execution_count": null,
   "metadata": {},
   "outputs": [],
   "source": [
    "dataset = sensai.data.dataset.DataSetClassificationTitanicSurvival()\n",
    "io_data = dataset.load_io_data()\n",
    "io_data.to_df().iloc[:5]"
   ]
  },
  {
   "cell_type": "markdown",
   "metadata": {},
   "source": [
    "Let us define an evaluation object for this data set, which will allow us to evaluate model performance later."
   ]
  },
  {
   "cell_type": "code",
   "execution_count": null,
   "metadata": {},
   "outputs": [],
   "source": [
    "evaluator_params = sensai.evaluation.ClassificationEvaluatorParams(fractional_split_test_fraction=0.2)\n",
    "titanic_evaluation = sensai.evaluation.ClassificationModelEvaluation(io_data, evaluator_params=evaluator_params)"
   ]
  },
  {
   "cell_type": "markdown",
   "metadata": {},
   "source": [
    "### Raw Input Transformers\n",
    "\n",
    "We shall now add pipeline components to an XGBoost model, as it can straightforwardly deal with missing data.\n",
    "\n",
    "The dataset doesn't really require any pre-processing, but we could \n",
    "* get rid of the useless meta-data columns,\n",
    "* convert the passenger class feature into a string to ensure that it is not treated as a numerical feature"
   ]
  },
  {
   "cell_type": "code",
   "execution_count": null,
   "metadata": {},
   "outputs": [],
   "source": [
    "class DFTTitanicDropMetaDataColumns(sensai.data_transformation.DFTColumnFilter):\n",
    "    def __init__(self):\n",
    "        super().__init__(drop=[dataset.COL_NAME, dataset.COL_CABIN, dataset.COL_TICKET])\n",
    "        \n",
    "class DFTTitanicTransformPassengerClass(sensai.data_transformation.DFTModifyColumn):\n",
    "    def __init__(self):\n",
    "        super().__init__(\n",
    "            column=dataset.COL_PASSENGER_CLASS, \n",
    "            column_transform=lambda n: {1: \"first\", 2: \"second\", 3: \"third\"}[n])\n",
    "\n",
    "xgb_model = sensai.xgboost.XGBGradientBoostedVectorClassificationModel() \\\n",
    "    .with_raw_input_transformers(\n",
    "        DFTTitanicDropMetaDataColumns(),\n",
    "        DFTTitanicTransformPassengerClass())"
   ]
  },
  {
   "cell_type": "markdown",
   "metadata": {},
   "source": [
    "Our model uses two data frame transformers which apply the aforementioned pre-processing tasks.\n",
    "We have opted to define classes for each transformation to facilitate reusing the transformations for other models. \n",
    "\n",
    "We can apply the transformers using the model's `compute_model_inputs` method.\n",
    "Since neither transformer requires fitting, we can directly apply it."
   ]
  },
  {
   "cell_type": "code",
   "execution_count": null,
   "metadata": {},
   "outputs": [],
   "source": [
    "xgb_model.compute_model_inputs(io_data.inputs).iloc[:5]"
   ]
  },
  {
   "cell_type": "markdown",
   "source": [
    "The model's input pipeline now transforms the data as desired."
   ],
   "metadata": {
    "collapsed": false
   }
  },
  {
   "cell_type": "markdown",
   "metadata": {},
   "source": [
    "### Feature Generation and Transformation\n",
    "\n",
    "Feature generators serve to define how features can be generated from the input data.\n",
    "They additionally hold meta-data on the generated features, which can be leveraged for downstream transformation. Specifically,\n",
    "* we can define which features are categorical,\n",
    "* we can define rules for normalisation or scaling of numerical features. \n",
    "\n",
    "#### Simple Feature Pipelines for Titanic Survival\n",
    "\n",
    "In the Titanic Survival data set, the features are already fully prepared, so we do not need to actually generate anything; \n",
    "we can simply take the feature values as they are present in the original data frame and add only the necessary meta-data.\n",
    "The base class for this purpose is `FeatureGeneratorTakeColumns`, which allows us to take over columns directly from the input data.\n",
    "We could use a single feature generator for all features as follows:"
   ]
  },
  {
   "cell_type": "code",
   "outputs": [],
   "source": [
    "class FeatureGeneratorTitanicAll(sensai.featuregen.FeatureGeneratorTakeColumns):\n",
    "    def __init__(self):\n",
    "        super().__init__(\n",
    "            columns=None,  # take all columns\n",
    "            categorical_feature_names=[dataset.COL_SEX, dataset.COL_PASSENGER_CLASS, dataset.COL_PORT_EMBARKED],\n",
    "            normalisation_rule_template=sensai.featuregen.DFTNormalisation.RuleTemplate(\n",
    "                transformer_factory=sensai.data_transformation.SkLearnTransformerFactoryFactory.StandardScaler(),\n",
    "                independent_columns=True))"
   ],
   "metadata": {
    "collapsed": false
   },
   "execution_count": null
  },
  {
   "cell_type": "markdown",
   "source": [
    "We have supplied both meta-data regarding \n",
    "* the subset of feature that are categorical\n",
    "* the normalisation rule to be applied to the numerical features (if normalisation is applied with `DFTNormalisation`).\n",
    "\n",
    "Our XGBoost model does not require normalisation, but we still want to apply a transformation to some of the features:\n",
    "Categorical feature shall be one-hot encoded.\n",
    "To achieve this, we add the feature generator as well as a DFT that applies the one-hot encoding: "
   ],
   "metadata": {
    "collapsed": false
   }
  },
  {
   "cell_type": "code",
   "outputs": [],
   "source": [
    "feature_generator = FeatureGeneratorTitanicAll()\n",
    "\n",
    "xgb_model.with_feature_generator(feature_generator) \\\n",
    "    .with_feature_transformers(\n",
    "        sensai.data_transformation.DFTOneHotEncoder(\n",
    "            feature_generator.get_categorical_feature_name_regex(), \n",
    "            ignore_unknown=True)) \\\n",
    "    .pprint()"
   ],
   "metadata": {
    "collapsed": false
   },
   "execution_count": null
  },
  {
   "cell_type": "markdown",
   "source": [
    "When using more than one feature generator, the feature generators need to be combined into a `MultiFeatureGenerator`.\n",
    "To facilitate this and to furthermore simplify the creation of downstream transformers, we can instead use the `FeatureCollector` abstraction.\n",
    "The above model can be equivalently defined as follows:"
   ],
   "metadata": {
    "collapsed": false
   }
  },
  {
   "cell_type": "code",
   "outputs": [],
   "source": [
    "feature_collector = sensai.featuregen.FeatureCollector(feature_generator)  # can pass more than one feature generator\n",
    "\n",
    "xgb_model.with_feature_collector(feature_collector, shared=True) \\\n",
    "    .with_feature_transformers(feature_collector.create_feature_transformer_one_hot_encoder(ignore_unknown=True));"
   ],
   "metadata": {
    "collapsed": false
   },
   "execution_count": null
  },
  {
   "cell_type": "markdown",
   "source": [
    "Either way, the model's feature pipeline is now fully configured.\n",
    "The full pipeline now requires fitting (since the feature transformation is learnt from the training data).\n",
    "Let's fit the model and then take another look at the inputs that the XGBoost model now actually receives."
   ],
   "metadata": {
    "collapsed": false
   }
  },
  {
   "cell_type": "code",
   "outputs": [],
   "source": [
    "xgb_model.fit_input_output_data(io_data)\n",
    "xgb_model.compute_model_inputs(io_data.inputs).iloc[:5]"
   ],
   "metadata": {
    "collapsed": false
   },
   "execution_count": null
  },
  {
   "cell_type": "markdown",
   "source": [
    "The pipeline works as expected. We are now ready to evaluate the model:"
   ],
   "metadata": {
    "collapsed": false
   }
  },
  {
   "cell_type": "code",
   "outputs": [],
   "source": [
    "result = titanic_evaluation.perform_simple_evaluation(xgb_model)\n",
    "result.get_data_frame()"
   ],
   "metadata": {
    "collapsed": false
   },
   "execution_count": null
  },
  {
   "cell_type": "markdown",
   "source": [
    "In the demonstration above, the model's full definition was spread out across several cells to incrementally explain the pipeline construction.\n",
    "In practice we want to keep the model definition monolithic.\n",
    "Let us (re-)define the XGBoost model as well as a second model with a slightly different pipeline that additionally applies normalisation and compare the two models."
   ],
   "metadata": {
    "collapsed": false
   }
  },
  {
   "cell_type": "code",
   "outputs": [],
   "source": [
    "xgb_model = sensai.xgboost.XGBGradientBoostedVectorClassificationModel() \\\n",
    "    .with_raw_input_transformers(\n",
    "        DFTTitanicDropMetaDataColumns(),\n",
    "        DFTTitanicTransformPassengerClass()) \\\n",
    "    .with_name(\"XGBoost\") \\\n",
    "    .with_feature_collector(feature_collector, shared=True) \\\n",
    "    .with_feature_transformers(\n",
    "        feature_collector.create_feature_transformer_one_hot_encoder(ignore_unknown=True))\n",
    "\n",
    "torch_mlp_model = sensai.torch.models.MultiLayerPerceptronVectorClassificationModel(\n",
    "        hid_activation_function=torch.relu,\n",
    "        hidden_dims=[10, 10, 4],\n",
    "        cuda=False,\n",
    "        p_dropout=0.25,\n",
    "        nn_optimiser_params=sensai.torch.NNOptimiserParams(early_stopping_epochs=10)) \\\n",
    "    .with_name(\"MLP\") \\\n",
    "    .with_raw_input_transformers(\n",
    "        DFTTitanicDropMetaDataColumns(),\n",
    "        DFTTitanicTransformPassengerClass()) \\\n",
    "    .with_feature_collector(feature_collector, shared=True) \\\n",
    "    .with_feature_transformers(\n",
    "        sensai.data_transformation.DFTColumnFilter(drop=[dataset.COL_PORT_EMBARKED, dataset.COL_AGE_YEARS]),\n",
    "        feature_collector.create_feature_transformer_one_hot_encoder(ignore_unknown=True),\n",
    "        feature_collector.create_dft_normalisation())\n",
    "\n",
    "titanic_evaluation.compare_models([xgb_model, torch_mlp_model]).results_df"
   ],
   "metadata": {
    "collapsed": false
   },
   "execution_count": null
  },
  {
   "cell_type": "markdown",
   "source": [
    "Notice that the model definitions are purely declarative: We define each model and the respective feature pipeline by injecting appropriate pipeline components.\n",
    "\n",
    "For the multi-layer perceptron model, we notably added some additional feature transformers:\n",
    "* Since this type model cannot cope with missing feature values, we added a component that drops the age and port columns, which are sometimes undefined.\n",
    "* Since neural networks work best with normalised feature representations, we added the normalisation component, which uses a standard scaler (as defined in the feature generator).\n"
   ],
   "metadata": {
    "collapsed": false
   }
  }
 ],
 "metadata": {
  "kernelspec": {
   "display_name": "sensai",
   "language": "python",
   "name": "python3"
  },
  "language_info": {
   "codemirror_mode": {
    "name": "ipython",
    "version": 3
   },
   "file_extension": ".py",
   "mimetype": "text/x-python",
   "name": "python",
   "nbconvert_exporter": "python",
   "pygments_lexer": "ipython3",
   "version": "3.8.18"
  }
 },
 "nbformat": 4,
 "nbformat_minor": 2
}
